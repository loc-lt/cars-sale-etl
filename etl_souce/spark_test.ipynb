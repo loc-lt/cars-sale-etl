{
 "cells": [
  {
   "cell_type": "code",
   "execution_count": 5,
   "metadata": {},
   "outputs": [
    {
     "name": "stderr",
     "output_type": "stream",
     "text": [
      "[Stage 1:>                                                          (0 + 1) / 1]\r"
     ]
    },
    {
     "name": "stdout",
     "output_type": "stream",
     "text": [
      "+---+--------+----------+----------+\n",
      "| id|quantity|created_at|product_id|\n",
      "+---+--------+----------+----------+\n",
      "|  1|       1|2009-01-25|    331449|\n",
      "|  2|       1|2019-09-13|    182256|\n",
      "|  3|       2|2004-05-04|    108399|\n",
      "|  4|       3|2011-02-20|     81461|\n",
      "|  5|       3|2007-07-11|    136274|\n",
      "|  6|       3|2003-08-01|    182938|\n",
      "|  7|       2|2020-07-16|    368901|\n",
      "|  8|       1|2023-05-03|    294007|\n",
      "|  9|       2|2006-06-17|    201290|\n",
      "| 10|       2|2012-07-25|    396152|\n",
      "+---+--------+----------+----------+\n",
      "only showing top 10 rows\n",
      "\n",
      "None\n"
     ]
    },
    {
     "name": "stderr",
     "output_type": "stream",
     "text": [
      "                                                                                \r"
     ]
    }
   ],
   "source": [
    "##import required libraries\n",
    "import pyspark\n",
    "\n",
    "##create spark session\n",
    "spark = pyspark.sql.SparkSession \\\n",
    "   .builder \\\n",
    "   .appName(\"Python Spark SQL basic example\") \\\n",
    "   .config('spark.driver.extraClassPath', \"postgresql-42.6.0.jar\") \\\n",
    "   .getOrCreate()\n",
    "\n",
    "##read table from db using spark jdbc\n",
    "movies_df = spark.read \\\n",
    "   .format(\"jdbc\") \\\n",
    "   .option(\"url\", \"jdbc:postgresql://localhost:5432/my_company\") \\\n",
    "   .option(\"dbtable\", \"orders\") \\\n",
    "   .option(\"user\", \"postgres\") \\\n",
    "   .option(\"password\", \"loc//14122000\") \\\n",
    "   .option(\"driver\", \"org.postgresql.Driver\") \\\n",
    "   .load()\n",
    "\n",
    "##print the movies_df\n",
    "print(movies_df.show(10))"
   ]
  },
  {
   "cell_type": "code",
   "execution_count": 1,
   "metadata": {},
   "outputs": [],
   "source": [
    "## Read Data From HDFS"
   ]
  },
  {
   "cell_type": "code",
   "execution_count": null,
   "metadata": {},
   "outputs": [],
   "source": [
    "## Compare data from Postgre and HDFS Data Lake then "
   ]
  }
 ],
 "metadata": {
  "kernelspec": {
   "display_name": "Python 3",
   "language": "python",
   "name": "python3"
  },
  "language_info": {
   "codemirror_mode": {
    "name": "ipython",
    "version": 3
   },
   "file_extension": ".py",
   "mimetype": "text/x-python",
   "name": "python",
   "nbconvert_exporter": "python",
   "pygments_lexer": "ipython3",
   "version": "3.8.10"
  },
  "orig_nbformat": 4
 },
 "nbformat": 4,
 "nbformat_minor": 2
}
