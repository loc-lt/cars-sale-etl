{
 "cells": [
  {
   "cell_type": "markdown",
   "metadata": {},
   "source": [
    "## Ingestion Step"
   ]
  },
  {
   "cell_type": "markdown",
   "metadata": {},
   "source": [
    "**Input** : tblName -> name of table to ingest data to HDFS, executionDate -> date to partition in DHFS Datalake <br>\n",
    "**Output**: data in DHFS Datalake is updated\n",
    "1. Load data from PostgreSQL in **tblName** table.\n",
    "2. Update data in **tblName** folder with these below steps:  \n",
    " - 2.1 Get the lastest record_id in datalake (if **tblName** folder isn't empty) \n",
    " - 2.2 Get the lastest records in PostgreSQL\n",
    " - 2.3 Append records in PostreSQL from lastest record_id in HDFS Datalake"
   ]
  },
  {
   "cell_type": "markdown",
   "metadata": {},
   "source": [
    "### Import Neccessary Libraris"
   ]
  },
  {
   "cell_type": "code",
   "execution_count": 76,
   "metadata": {},
   "outputs": [],
   "source": [
    "import pyspark\n",
    "from pyspark import SparkContext, SQLContext, SparkConf\n",
    "from pyspark.sql import SparkSession\n",
    "from pyspark.sql.functions import lit, max\n",
    "import sys\n",
    "import subprocess"
   ]
  },
  {
   "cell_type": "markdown",
   "metadata": {},
   "source": [
    "### Receive 2 arguments: tblName, executionDate"
   ]
  },
  {
   "cell_type": "code",
   "execution_count": 77,
   "metadata": {},
   "outputs": [],
   "source": [
    "tblName = input(\"Input table name from PostgreSQL which load to HDFS: \") \n",
    "executionDate = input(\"Input date you want ingest data from PostgreSQL to HDFS DataLake: \")"
   ]
  },
  {
   "cell_type": "code",
   "execution_count": null,
   "metadata": {},
   "outputs": [],
   "source": []
  },
  {
   "cell_type": "code",
   "execution_count": 78,
   "metadata": {},
   "outputs": [
    {
     "data": {
      "text/plain": [
       "'2023-07-25'"
      ]
     },
     "execution_count": 78,
     "metadata": {},
     "output_type": "execute_result"
    }
   ],
   "source": [
    "executionDate"
   ]
  },
  {
   "cell_type": "code",
   "execution_count": 79,
   "metadata": {},
   "outputs": [],
   "source": [
    "runTime = executionDate.split(\"-\")\n",
    "year = runTime[0]\n",
    "month = runTime[1]\n",
    "day = runTime[2]"
   ]
  },
  {
   "cell_type": "markdown",
   "metadata": {},
   "source": [
    "### Load data from tblName table in PostgreSQL"
   ]
  },
  {
   "cell_type": "code",
   "execution_count": 80,
   "metadata": {},
   "outputs": [],
   "source": [
    "# create spark session\n",
    "spark = pyspark.sql.SparkSession \\\n",
    "   .builder \\\n",
    "   .appName(\"Ingestion - from Postgres to HDFS\") \\\n",
    "   .config('spark.driver.extraClassPath', \"postgresql-42.6.0.jar\") \\\n",
    "   .getOrCreate()"
   ]
  },
  {
   "cell_type": "code",
   "execution_count": 81,
   "metadata": {},
   "outputs": [],
   "source": [
    "# read table from db using spark jdbc\n",
    "df = spark.read \\\n",
    "   .format(\"jdbc\") \\\n",
    "   .option(\"url\", \"jdbc:postgresql://localhost:5432/my_company\") \\\n",
    "   .option(\"dbtable\", tblName) \\\n",
    "   .option(\"user\", \"postgres\") \\\n",
    "   .option(\"password\", \"loc//14122000\") \\\n",
    "   .option(\"driver\", \"org.postgresql.Driver\") \\\n",
    "   .load()"
   ]
  },
  {
   "cell_type": "code",
   "execution_count": 82,
   "metadata": {},
   "outputs": [
    {
     "name": "stderr",
     "output_type": "stream",
     "text": [
      "[Stage 15:>                                                         (0 + 1) / 1]\r"
     ]
    },
    {
     "name": "stdout",
     "output_type": "stream",
     "text": [
      "+---+------+-----------+--------+-------+\n",
      "| id| total|    payment|order_id|user_id|\n",
      "+---+------+-----------+--------+-------+\n",
      "|  1|710051|credit_card|       1| 209279|\n",
      "|  2|375643|       cash|       2| 242546|\n",
      "|  3|975362|       cash|       3| 135215|\n",
      "|  4|417644|credit_card|       4| 111433|\n",
      "|  5|481473|credit_card|       5|  44346|\n",
      "|  6|389161| instalment|       6| 112586|\n",
      "|  7|376682|credit_card|       7| 133477|\n",
      "|  8|551975|credit_card|       8| 232025|\n",
      "|  9|263441|       cash|       9| 177652|\n",
      "| 10|908849|       cash|      10| 179390|\n",
      "+---+------+-----------+--------+-------+\n",
      "only showing top 10 rows\n",
      "\n"
     ]
    },
    {
     "name": "stderr",
     "output_type": "stream",
     "text": [
      "                                                                                \r"
     ]
    }
   ],
   "source": [
    "df.show(10)"
   ]
  },
  {
   "cell_type": "markdown",
   "metadata": {},
   "source": [
    "### Update data in tblName folder in DHFS"
   ]
  },
  {
   "cell_type": "markdown",
   "metadata": {},
   "source": [
    "#### Get the lastest record_id in datalake (if **tblName** folder isn't empty) "
   ]
  },
  {
   "cell_type": "code",
   "execution_count": 83,
   "metadata": {},
   "outputs": [],
   "source": [
    "# function to interact with hdfs storage\n",
    "def run_cmd(args_list):\n",
    "    print('Running system command: {0}'.format(' '.join(args_list)))\n",
    "    proc = subprocess.Popen(args_list, stdout=subprocess.PIPE, stderr=subprocess.PIPE)\n",
    "    s_output, s_err = proc.communicate()\n",
    "    s_return = proc.returncode\n",
    "    return s_return, s_output, s_err"
   ]
  },
  {
   "cell_type": "code",
   "execution_count": 84,
   "metadata": {},
   "outputs": [],
   "source": [
    "tblLocation = f'hdfs://localhost:9000/datalake/{tblName}'"
   ]
  },
  {
   "cell_type": "code",
   "execution_count": 85,
   "metadata": {},
   "outputs": [
    {
     "name": "stdout",
     "output_type": "stream",
     "text": [
      "Running system command: hdfs dfs -du -s hdfs://localhost:9000/datalake/order_detail\n"
     ]
    },
    {
     "name": "stdout",
     "output_type": "stream",
     "text": [
      "False\n"
     ]
    }
   ],
   "source": [
    "# check whether folder exist of not\n",
    "(ret, out, err) = run_cmd(['hdfs', 'dfs', '-du', '-s', tblLocation])\n",
    "exists = True if len(str(out).split()) > 1 else False\n",
    "print(exists)"
   ]
  },
  {
   "cell_type": "code",
   "execution_count": 86,
   "metadata": {},
   "outputs": [],
   "source": [
    "tblQuery = \"\"\n",
    "if exists:\n",
    "    datalake_df = spark.read.format('parquet').load(tblLocation)\n",
    "    record_id = datalake_df.agg(max(\"id\")).head()[0]\n",
    "    tblQuery = f\"SELECT * FROM {tblName} WHERE id > {record_id} AS tmp\"\n",
    "else:\n",
    "    tblQuery = f\"SELECT * FROM {tblName} AS tmp\""
   ]
  },
  {
   "cell_type": "code",
   "execution_count": 87,
   "metadata": {},
   "outputs": [
    {
     "data": {
      "text/plain": [
       "'SELECT * FROM order_detail AS tmp'"
      ]
     },
     "execution_count": 87,
     "metadata": {},
     "output_type": "execute_result"
    }
   ],
   "source": [
    "tblQuery"
   ]
  },
  {
   "cell_type": "markdown",
   "metadata": {},
   "source": [
    "#### Get the lastest records in PostgreSQL"
   ]
  },
  {
   "cell_type": "code",
   "execution_count": 88,
   "metadata": {},
   "outputs": [],
   "source": [
    "jdbc_df = spark.read \\\n",
    "   .format(\"jdbc\") \\\n",
    "   .option(\"url\", \"jdbc:postgresql://localhost:5432/my_company\") \\\n",
    "   .option(\"dbtable\", tblName) \\\n",
    "   .option(\"user\", \"postgres\") \\\n",
    "   .option(\"password\", \"loc//14122000\") \\\n",
    "   .option(\"driver\", \"org.postgresql.Driver\") \\\n",
    "   .load(tblQuery)"
   ]
  },
  {
   "cell_type": "code",
   "execution_count": 89,
   "metadata": {},
   "outputs": [
    {
     "name": "stderr",
     "output_type": "stream",
     "text": [
      "[Stage 16:>                                                         (0 + 1) / 1]\r"
     ]
    },
    {
     "name": "stdout",
     "output_type": "stream",
     "text": [
      "+---+------+-----------+--------+-------+\n",
      "| id| total|    payment|order_id|user_id|\n",
      "+---+------+-----------+--------+-------+\n",
      "|  1|710051|credit_card|       1| 209279|\n",
      "|  2|375643|       cash|       2| 242546|\n",
      "|  3|975362|       cash|       3| 135215|\n",
      "|  4|417644|credit_card|       4| 111433|\n",
      "|  5|481473|credit_card|       5|  44346|\n",
      "+---+------+-----------+--------+-------+\n",
      "only showing top 5 rows\n",
      "\n"
     ]
    },
    {
     "name": "stderr",
     "output_type": "stream",
     "text": [
      "                                                                                \r"
     ]
    }
   ],
   "source": [
    "jdbc_df.show(5)"
   ]
  },
  {
   "cell_type": "markdown",
   "metadata": {},
   "source": [
    "#### Append records in PostreSQL from lastest record_id in HDFS Datalake"
   ]
  },
  {
   "cell_type": "code",
   "execution_count": 90,
   "metadata": {},
   "outputs": [
    {
     "name": "stderr",
     "output_type": "stream",
     "text": [
      "                                                                                \r"
     ]
    }
   ],
   "source": [
    "output_df = jdbc_df.withColumn(\"year\", lit(year)).withColumn(\"month\", lit(month)).withColumn(\"day\", lit(day))\n",
    "output_df.write.partitionBy(\"year\", \"month\", \"day\").mode(\"append\").parquet(tblLocation)"
   ]
  }
 ],
 "metadata": {
  "kernelspec": {
   "display_name": "Python 3",
   "language": "python",
   "name": "python3"
  },
  "language_info": {
   "codemirror_mode": {
    "name": "ipython",
    "version": 3
   },
   "file_extension": ".py",
   "mimetype": "text/x-python",
   "name": "python",
   "nbconvert_exporter": "python",
   "pygments_lexer": "ipython3",
   "version": "3.8.10"
  },
  "orig_nbformat": 4
 },
 "nbformat": 4,
 "nbformat_minor": 2
}
